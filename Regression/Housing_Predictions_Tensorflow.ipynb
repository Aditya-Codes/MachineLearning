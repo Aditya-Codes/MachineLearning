{
 "cells": [
  {
   "cell_type": "code",
   "execution_count": 46,
   "metadata": {
    "collapsed": true
   },
   "outputs": [],
   "source": [
    "#!pip install tensorflow"
   ]
  },
  {
   "cell_type": "code",
   "execution_count": 47,
   "metadata": {},
   "outputs": [],
   "source": [
    "# Tensorflow and Scikit-Learn packages\n",
    "import tensorflow as tf\n",
    "from sklearn.metrics import r2_score\n",
    "\n",
    "#Computational and Visualisation packages\n",
    "import numpy as np\n",
    "import pandas as pd"
   ]
  },
  {
   "cell_type": "code",
   "execution_count": 48,
   "metadata": {},
   "outputs": [
    {
     "name": "stdout",
     "output_type": "stream",
     "text": [
      "<class 'pandas.core.frame.DataFrame'>\n",
      "RangeIndex: 20640 entries, 0 to 20639\n",
      "Data columns (total 9 columns):\n",
      "Longitude            20640 non-null float64\n",
      "Latitude             20640 non-null float64\n",
      "HousingMedianAge     20640 non-null int64\n",
      "TotalRooms           20640 non-null int64\n",
      "TotalBedrooms        20640 non-null int64\n",
      "Population           20640 non-null int64\n",
      "Households           20640 non-null int64\n",
      "MedianIncomeValue    20640 non-null float64\n",
      "MedianHouseValue     20640 non-null int64\n",
      "dtypes: float64(3), int64(6)\n",
      "memory usage: 1.4 MB\n",
      "\n",
      " Glimpse of the housing dataset\n"
     ]
    },
    {
     "data": {
      "text/html": [
       "<div>\n",
       "<style>\n",
       "    .dataframe thead tr:only-child th {\n",
       "        text-align: right;\n",
       "    }\n",
       "\n",
       "    .dataframe thead th {\n",
       "        text-align: left;\n",
       "    }\n",
       "\n",
       "    .dataframe tbody tr th {\n",
       "        vertical-align: top;\n",
       "    }\n",
       "</style>\n",
       "<table border=\"1\" class=\"dataframe\">\n",
       "  <thead>\n",
       "    <tr style=\"text-align: right;\">\n",
       "      <th></th>\n",
       "      <th>Longitude</th>\n",
       "      <th>Latitude</th>\n",
       "      <th>HousingMedianAge</th>\n",
       "      <th>TotalRooms</th>\n",
       "      <th>TotalBedrooms</th>\n",
       "      <th>Population</th>\n",
       "      <th>Households</th>\n",
       "      <th>MedianIncomeValue</th>\n",
       "      <th>MedianHouseValue</th>\n",
       "    </tr>\n",
       "  </thead>\n",
       "  <tbody>\n",
       "    <tr>\n",
       "      <th>0</th>\n",
       "      <td>-122.23</td>\n",
       "      <td>37.88</td>\n",
       "      <td>41</td>\n",
       "      <td>880</td>\n",
       "      <td>129</td>\n",
       "      <td>322</td>\n",
       "      <td>126</td>\n",
       "      <td>8.3252</td>\n",
       "      <td>452600</td>\n",
       "    </tr>\n",
       "    <tr>\n",
       "      <th>1</th>\n",
       "      <td>-122.22</td>\n",
       "      <td>37.86</td>\n",
       "      <td>21</td>\n",
       "      <td>7099</td>\n",
       "      <td>1106</td>\n",
       "      <td>2401</td>\n",
       "      <td>1138</td>\n",
       "      <td>8.3014</td>\n",
       "      <td>358500</td>\n",
       "    </tr>\n",
       "    <tr>\n",
       "      <th>2</th>\n",
       "      <td>-122.24</td>\n",
       "      <td>37.85</td>\n",
       "      <td>52</td>\n",
       "      <td>1467</td>\n",
       "      <td>190</td>\n",
       "      <td>496</td>\n",
       "      <td>177</td>\n",
       "      <td>7.2574</td>\n",
       "      <td>352100</td>\n",
       "    </tr>\n",
       "    <tr>\n",
       "      <th>3</th>\n",
       "      <td>-122.25</td>\n",
       "      <td>37.85</td>\n",
       "      <td>52</td>\n",
       "      <td>1274</td>\n",
       "      <td>235</td>\n",
       "      <td>558</td>\n",
       "      <td>219</td>\n",
       "      <td>5.6431</td>\n",
       "      <td>341300</td>\n",
       "    </tr>\n",
       "    <tr>\n",
       "      <th>4</th>\n",
       "      <td>-122.25</td>\n",
       "      <td>37.85</td>\n",
       "      <td>52</td>\n",
       "      <td>1627</td>\n",
       "      <td>280</td>\n",
       "      <td>565</td>\n",
       "      <td>259</td>\n",
       "      <td>3.8462</td>\n",
       "      <td>342200</td>\n",
       "    </tr>\n",
       "  </tbody>\n",
       "</table>\n",
       "</div>"
      ],
      "text/plain": [
       "   Longitude  Latitude  HousingMedianAge  TotalRooms  TotalBedrooms  \\\n",
       "0    -122.23     37.88                41         880            129   \n",
       "1    -122.22     37.86                21        7099           1106   \n",
       "2    -122.24     37.85                52        1467            190   \n",
       "3    -122.25     37.85                52        1274            235   \n",
       "4    -122.25     37.85                52        1627            280   \n",
       "\n",
       "   Population  Households  MedianIncomeValue  MedianHouseValue  \n",
       "0         322         126             8.3252            452600  \n",
       "1        2401        1138             8.3014            358500  \n",
       "2         496         177             7.2574            352100  \n",
       "3         558         219             5.6431            341300  \n",
       "4         565         259             3.8462            342200  "
      ]
     },
     "execution_count": 48,
     "metadata": {},
     "output_type": "execute_result"
    }
   ],
   "source": [
    "housing_dataset = pd.read_csv(\"cal_housing_data with headers.csv\")\n",
    "housing_dataset.info()\n",
    "print(\"\\n Glimpse of the housing dataset\")\n",
    "housing_dataset.head()"
   ]
  },
  {
   "cell_type": "code",
   "execution_count": 49,
   "metadata": {},
   "outputs": [],
   "source": [
    "# Preprocessing\n",
    "housing_array = np.array([x for x in housing_dataset.values])\n",
    "\n",
    "housing_dependent = np.delete(housing_array, 8, axis=1)\n",
    "housing_target = np.delete(housing_array, slice(0, 8), axis=1)\n",
    "\n",
    "m, n = housing_dependent.shape\n",
    "housing_dependent_plus_bias = np.c_[np.ones((m, 1)), housing_dependent]"
   ]
  },
  {
   "cell_type": "code",
   "execution_count": 50,
   "metadata": {},
   "outputs": [],
   "source": [
    "#import tensorflow as tf\n",
    "\n",
    "# Calculating the compute graphs\n",
    "X = tf.constant(housing_dependent_plus_bias, dtype=tf.float64, name=\"X\")\n",
    "XT = tf.transpose(X)\n",
    "y = tf.constant(housing_target.reshape(-1, 1), dtype=tf.float64, name=\"y\")\n",
    "\n",
    "theta = tf.matmul(tf.matmul(tf.matrix_inverse(tf.matmul(XT, X)), XT), y)"
   ]
  },
  {
   "cell_type": "code",
   "execution_count": 51,
   "metadata": {},
   "outputs": [
    {
     "name": "stdout",
     "output_type": "stream",
     "text": [
      "[[ -3.59402294e+06]\n",
      " [ -4.28237438e+04]\n",
      " [ -4.25767219e+04]\n",
      " [  1.15630387e+03]\n",
      " [ -8.18164928e+00]\n",
      " [  1.13410689e+02]\n",
      " [ -3.85350953e+01]\n",
      " [  4.83082868e+01]\n",
      " [  4.02485142e+04]]\n"
     ]
    }
   ],
   "source": [
    "with tf.Session() as sess:\n",
    "    theta_value = theta.eval()\n",
    "    \n",
    "print (theta_value)"
   ]
  },
  {
   "cell_type": "code",
   "execution_count": 52,
   "metadata": {},
   "outputs": [
    {
     "name": "stdout",
     "output_type": "stream",
     "text": [
      "Predicted value from the model = 411111.096064\n"
     ]
    }
   ],
   "source": [
    "predicted_value = theta_value[0][0]\n",
    "#Feature coefficients\n",
    "coefficients = theta_value[1:]\n",
    "\n",
    "for j, c in enumerate(coefficients):\n",
    "    predicted_value += c[0] * housing_dependent[0][j]\n",
    "print (\"Predicted value from the model = {}\".format(predicted_value))"
   ]
  },
  {
   "cell_type": "markdown",
   "metadata": {},
   "source": [
    "## Computation of the quality of the trained model"
   ]
  },
  {
   "cell_type": "code",
   "execution_count": 53,
   "metadata": {},
   "outputs": [
    {
     "name": "stdout",
     "output_type": "stream",
     "text": [
      "Array of computed predictions = [ 411111.09606391  416144.49078587  380432.65417419 ...,   25026.16974242\n",
      "   37991.19625315   55550.98309296]\n"
     ]
    }
   ],
   "source": [
    "predicted_values = np.full((m), theta_value[0][0])\n",
    "coefficients = theta_value[1:] #Extracting the feature coefficients\n",
    "\n",
    "for i, x in enumerate(housing_dependent):\n",
    "    for j, c in enumerate(coefficients):\n",
    "        predicted_values[i] += c * x[j]\n",
    "\n",
    "print (\"Array of computed predictions = {}\".format(predicted_values))"
   ]
  },
  {
   "cell_type": "code",
   "execution_count": 54,
   "metadata": {},
   "outputs": [
    {
     "name": "stdout",
     "output_type": "stream",
     "text": [
      "[ 452600.  358500.  352100. ...,   92300.   84700.   89400.]\n"
     ]
    }
   ],
   "source": [
    "# Flattening the dependent variable\n",
    "y_flattened = np.ndarray.flatten(housing_target)\n",
    "print (y_flattened)"
   ]
  },
  {
   "cell_type": "markdown",
   "metadata": {},
   "source": [
    "### Computation of the R squared"
   ]
  },
  {
   "cell_type": "code",
   "execution_count": 55,
   "metadata": {},
   "outputs": [
    {
     "name": "stdout",
     "output_type": "stream",
     "text": [
      "Computed R^2 = 0.6371056229\n"
     ]
    }
   ],
   "source": [
    "R_2 = r2_score(y_flattened, predicted_values)\n",
    "print (\"Computed R^2 = %.10f\" % R_2)"
   ]
  },
  {
   "cell_type": "markdown",
   "metadata": {},
   "source": [
    "### Computation of the residual"
   ]
  },
  {
   "cell_type": "code",
   "execution_count": 56,
   "metadata": {},
   "outputs": [
    {
     "name": "stdout",
     "output_type": "stream",
     "text": [
      "Computed Residual = 99734980886003.9375000000\n"
     ]
    }
   ],
   "source": [
    "SSres = 0.0\n",
    "for i, f_i in enumerate(predicted_values):\n",
    "    diff = float(f_i - y_flattened[i])\n",
    "    SSres += (diff * diff)\n",
    "print (\"Computed Residual = %.10f\" % SSres)"
   ]
  }
 ],
 "metadata": {
  "kernelspec": {
   "display_name": "Python 2",
   "language": "python",
   "name": "python2"
  },
  "language_info": {
   "codemirror_mode": {
    "name": "ipython",
    "version": 2
   },
   "file_extension": ".py",
   "mimetype": "text/x-python",
   "name": "python",
   "nbconvert_exporter": "python",
   "pygments_lexer": "ipython2",
   "version": "2.7.14"
  }
 },
 "nbformat": 4,
 "nbformat_minor": 2
}
