{
 "cells": [
  {
   "cell_type": "markdown",
   "metadata": {},
   "source": [
    "# 1. Introduction\n",
    "Everyone loves Lego (unless you ever stepped on one). Did you know by the way that \"Lego\" was derived from the Danish phrase leg godt, which means \"play well\"? Unless you speak Danish, probably not.\n",
    "\n",
    "In this project, we will analyze a fascinating dataset on every single lego block that has ever been built!\n",
    "\n",
    "![](img/lego_bricks1.jpeg)"
   ]
  },
  {
   "cell_type": "markdown",
   "metadata": {},
   "source": [
    "# Understanding Data\n",
    "A comprehensive database of lego blocks is provided by Rebrickable. The data is available as csv files and the schema is shown below.\n",
    "\n",
    "![downloads_schema.png](img/downloads_schema.png)"
   ]
  },
  {
   "cell_type": "code",
   "execution_count": 2,
   "metadata": {
    "collapsed": true
   },
   "outputs": [],
   "source": [
    "#Importing the Visualization and Computational Packages\n",
    "import numpy as np\n",
    "import pandas as pd\n",
    "import matplotlib.pyplot as plt"
   ]
  },
  {
   "cell_type": "code",
   "execution_count": 11,
   "metadata": {
    "collapsed": true
   },
   "outputs": [],
   "source": [
    "#Importing the datasets - colors and sets\n",
    "colors = pd.read_csv(\"datasets/colors.csv\")\n",
    "sets = pd.read_csv(\"datasets/sets.csv\")"
   ]
  },
  {
   "cell_type": "code",
   "execution_count": 13,
   "metadata": {},
   "outputs": [
    {
     "name": "stdout",
     "output_type": "stream",
     "text": [
      "Printing head of Colors dataset\n",
      "\n",
      "   id            name     rgb is_trans\n",
      "0  -1         Unknown  0033B2        f\n",
      "1   0           Black  05131D        f\n",
      "2   1            Blue  0055BF        f\n",
      "3   2           Green  237841        f\n",
      "4   3  Dark Turquoise  008F9B        f\n",
      "\n",
      "Printing tail of Colors dataset\n",
      "\n",
      "       id                          name     rgb is_trans\n",
      "130  1004  Trans Flame Yellowish Orange  FCB76D        t\n",
      "131  1005             Trans Fire Yellow  FBE890        t\n",
      "132  1006        Trans Light Royal Blue  B4D4F7        t\n",
      "133  1007                 Reddish Lilac  8E5597        f\n",
      "134  9999                    [No Color]  05131D        f\n"
     ]
    }
   ],
   "source": [
    "#Exploring the colors dataset\n",
    "print (\"Printing head of Colors dataset\\n\")\n",
    "print (colors.head())\n",
    "print (\"\\nPrinting tail of Colors dataset\\n\")\n",
    "print (colors.tail())"
   ]
  },
  {
   "cell_type": "code",
   "execution_count": 15,
   "metadata": {},
   "outputs": [
    {
     "name": "stdout",
     "output_type": "stream",
     "text": [
      "Number of Unique Colors = 135 \n"
     ]
    }
   ],
   "source": [
    "#Distinct colors\n",
    "num_colors = len(colors.name.unique())\n",
    "print (\"Number of Unique Colors = %s \" % num_colors)"
   ]
  },
  {
   "cell_type": "code",
   "execution_count": 16,
   "metadata": {},
   "outputs": [
    {
     "name": "stdout",
     "output_type": "stream",
     "text": [
      "           id  name  rgb\n",
      "is_trans                \n",
      "f         107   107  107\n",
      "t          28    28   28\n"
     ]
    }
   ],
   "source": [
    "#Understaning summary of transparent and non-transparent colors\n",
    "colors_summary = colors.groupby(colors['is_trans']).count()\n",
    "print (colors_summary)"
   ]
  },
  {
   "cell_type": "code",
   "execution_count": 26,
   "metadata": {
    "collapsed": true
   },
   "outputs": [],
   "source": [
    "# Splitting into transparent and non transparent dataframes\n",
    "colors_transparent = colors.query(\"is_trans == 't'\")\n",
    "colors_ntransparent = colors.query(\"is_trans == 'f'\")"
   ]
  },
  {
   "cell_type": "code",
   "execution_count": 51,
   "metadata": {},
   "outputs": [
    {
     "name": "stdout",
     "output_type": "stream",
     "text": [
      "        name\n",
      "rgb         \n",
      "0020A0     1\n",
      "635F52     2\n",
      "68BCC5     1\n",
      "84B68D     1\n",
      "96709F     1\n"
     ]
    }
   ],
   "source": [
    "#Count of entries by color in transparent set\n",
    "transparent_entries = colors_transparent.groupby(colors['rgb']).agg({'name':'count'})\n",
    "print (transparent_entries.head())\n"
   ]
  },
  {
   "cell_type": "code",
   "execution_count": 55,
   "metadata": {},
   "outputs": [
    {
     "name": "stdout",
     "output_type": "stream",
     "text": [
      "        name\n",
      "rgb         \n",
      "000000     3\n",
      "0033B2     1\n",
      "0055BF     1\n",
      "008F9B     1\n",
      "05131D     2\n"
     ]
    }
   ],
   "source": [
    "#Count of entries by color in non-transparent set\n",
    "ntransparent_entries = colors_ntransparent.groupby(colors['rgb']).agg({'name':'count'})\n",
    "print (ntransparent_entries.head())"
   ]
  }
 ],
 "metadata": {
  "kernelspec": {
   "display_name": "Python 2",
   "language": "python",
   "name": "python2"
  },
  "language_info": {
   "codemirror_mode": {
    "name": "ipython",
    "version": 2
   },
   "file_extension": ".py",
   "mimetype": "text/x-python",
   "name": "python",
   "nbconvert_exporter": "python",
   "pygments_lexer": "ipython2",
   "version": "2.7.14"
  }
 },
 "nbformat": 4,
 "nbformat_minor": 2
}
